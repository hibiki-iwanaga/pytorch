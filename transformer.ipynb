{
 "cells": [
  {
   "cell_type": "markdown",
   "id": "4bcb548b-da57-47f9-b7af-97d3e382e087",
   "metadata": {},
   "source": [
    "## 目的\n",
    "本ノートブックではVision Transformerを用いた重力波検出のための分類モデルの構築を行う。\n"
   ]
  },
  {
   "cell_type": "code",
   "execution_count": 2,
   "id": "781239e0-c87b-4c30-bd33-973b7771627d",
   "metadata": {},
   "outputs": [],
   "source": [
    "#ライブラリインポート\n",
    "import torch\n",
    "import torchvision\n",
    "import torchvision.transforms as transforms"
   ]
  },
  {
   "cell_type": "code",
   "execution_count": 3,
   "id": "42759c84-a13f-4cd9-a0c9-e0487895dc3d",
   "metadata": {},
   "outputs": [],
   "source": [
    "#画像前処理のためのtransform定義\n",
    "transform = transforms.Compose(\n",
    "    [transforms.CenterCrop(225),\n",
    "     transforms.Resize(32),\n",
    "     transforms.ToTensor(),\n",
    "     transforms.Normalize((0.5, 0.5, 0.5), (0.5, 0.5, 0.5))])\n",
    "\n",
    "\n",
    "train_image_dir = './images/image3/train'\n",
    "val_image_dir = './images/image2/val'\n",
    "test_image_dir = './images/image2/test2'\n",
    "\n"
   ]
  },
  {
   "cell_type": "markdown",
   "id": "ed2d7506-2b08-4f7b-a2c8-798925dfd6a6",
   "metadata": {},
   "source": [
    "## データセット読み込み"
   ]
  },
  {
   "cell_type": "code",
   "execution_count": 4,
   "id": "abb109f3-5b83-4863-a3d8-59f3dc09c384",
   "metadata": {},
   "outputs": [],
   "source": [
    "train_set = torchvision.datasets.ImageFolder(root=train_image_dir, transform=transform)\n",
    "train_loader = torch.utils.data.DataLoader(train_set, batch_size=16, shuffle=True)\n",
    "\n",
    "validation_set = torchvision.datasets.ImageFolder(root=val_image_dir, transform=transform)\n",
    "validation_loader = torch.utils.data.DataLoader(validation_set, batch_size=4,\n",
    "                                         shuffle=False)\n",
    "\n",
    "test_set = torchvision.datasets.ImageFolder(root=test_image_dir, transform=transform)\n",
    "test_loader = torch.utils.data.DataLoader(test_set, batch_size=4, shuffle=False)\n",
    "\n",
    "classes = ('signal','noise')"
   ]
  },
  {
   "cell_type": "markdown",
   "id": "fab2e7d2-6ebc-4adc-bad6-abf42831e247",
   "metadata": {},
   "source": [
    "## Vision Transformerモデル定義"
   ]
  },
  {
   "cell_type": "code",
   "execution_count": 5,
   "id": "8cdf424d-9a5b-4ab3-88b3-1558e664650d",
   "metadata": {},
   "outputs": [],
   "source": [
    "import torch\n",
    "import torch.nn as nn\n",
    "\n",
    "from einops import repeat\n",
    "from einops.layers.torch import Rearrange\n",
    "\n",
    "\n",
    "class Patching(nn.Module):\n",
    "    def __init__(self, patch_size):\n",
    " \n",
    "        super().__init__()\n",
    "        self.net = Rearrange(\"b c (h ph) (w pw) -> b (h w) (ph pw c)\", ph = patch_size, pw = patch_size)\n",
    "    \n",
    "    def forward(self, x):\n",
    "        x = self.net(x)\n",
    "        return x\n",
    "\n",
    "\n",
    "class LinearProjection(nn.Module):\n",
    "    def __init__(self, patch_dim, dim):\n",
    "        super().__init__()\n",
    "        self.net = nn.Linear(patch_dim, dim)\n",
    "\n",
    "    def forward(self, x):\n",
    "        x = self.net(x)\n",
    "        return x\n",
    "\n",
    "\n",
    "class Embedding(nn.Module):\n",
    "    def __init__(self, dim, n_patches):\n",
    "        super().__init__()\n",
    "        # [class] token\n",
    "        self.cls_token = nn.Parameter(torch.randn(1, 1, dim))\n",
    "\n",
    "        # position embedding\n",
    "        self.pos_embedding = nn.Parameter(torch.randn(1, n_patches + 1, dim))\n",
    "    \n",
    "    def forward(self, x):\n",
    "        # バッチサイズを抽出\n",
    "        batch_size, _, __ = x.shape\n",
    "\n",
    "        # [class] トークン付加\n",
    "        # x.shape : [batch_size, n_patches, patch_dim] -> [batch_size, n_patches + 1, patch_dim]\n",
    "        cls_tokens = repeat(self.cls_token, \"1 1 d -> b 1 d\", b = batch_size)\n",
    "        x = torch.concat([cls_tokens, x], dim = 1)\n",
    "\n",
    "        # 位置エンコーディング\n",
    "        x += self.pos_embedding\n",
    "\n",
    "        return x\n",
    "\n",
    "\n",
    "class MLP(nn.Module):\n",
    "    def __init__(self, dim, hidden_dim):\n",
    "        super().__init__()\n",
    "        self.net = nn.Sequential(\n",
    "            nn.Linear(dim, hidden_dim),\n",
    "            nn.GELU(),\n",
    "            nn.Linear(hidden_dim, dim)\n",
    "        )\n",
    "\n",
    "    def forward(self, x):\n",
    "        x = self.net(x)\n",
    "        return x\n",
    "\n",
    "\n",
    "class MultiHeadAttention(nn.Module):\n",
    "    def __init__(self, dim, n_heads):\n",
    "        super().__init__()\n",
    "        self.n_heads = n_heads\n",
    "        self.dim_heads = dim // n_heads\n",
    "\n",
    "        self.W_q = nn.Linear(dim, dim)\n",
    "        self.W_k = nn.Linear(dim, dim)\n",
    "        self.W_v = nn.Linear(dim, dim)\n",
    "\n",
    "        self.split_into_heads = Rearrange(\"b n (h d) -> b h n d\", h = self.n_heads)\n",
    "\n",
    "        self.softmax = nn.Softmax(dim = -1)\n",
    "\n",
    "        self.concat = Rearrange(\"b h n d -> b n (h d)\", h = self.n_heads)\n",
    "\n",
    "    def forward(self, x):\n",
    "        q = self.W_q(x)\n",
    "        k = self.W_k(x)\n",
    "        v = self.W_v(x)\n",
    "\n",
    "        q = self.split_into_heads(q)\n",
    "        k = self.split_into_heads(k)\n",
    "        v = self.split_into_heads(v)\n",
    "\n",
    "        # Logit[i] = Q[i] * tK[i] / sqrt(D) (i = 1, ... , n_heads)\n",
    "        # AttentionWeight[i] = Softmax(Logit[i]) (i = 1, ... , n_heads)\n",
    "        logit = torch.matmul(q, k.transpose(-1, -2)) * (self.dim_heads ** -0.5)\n",
    "        attention_weight = self.softmax(logit)\n",
    "\n",
    "        # Head[i] = AttentionWeight[i] * V[i] (i = 1, ... , n_heads)\n",
    "        # Output = concat[Head[1], ... , Head[n_heads]]\n",
    "        output = torch.matmul(attention_weight, v)\n",
    "        output = self.concat(output)\n",
    "        return output\n",
    "\n",
    "\n",
    "class TransformerEncoder(nn.Module):\n",
    "    def __init__(self, dim, n_heads, mlp_dim, depth):\n",
    "        super().__init__()\n",
    "\n",
    "        # Layers\n",
    "        self.norm = nn.LayerNorm(dim)\n",
    "        self.multi_head_attention = MultiHeadAttention(dim = dim, n_heads = n_heads)\n",
    "        self.mlp = MLP(dim = dim, hidden_dim = mlp_dim)\n",
    "        self.depth = depth\n",
    "\n",
    "    def forward(self, x):\n",
    "        for _ in range(self.depth):\n",
    "            x = self.multi_head_attention(self.norm(x)) + x\n",
    "            x = self.mlp(self.norm(x)) + x\n",
    "\n",
    "        return x\n",
    "\n",
    "\n",
    "class MLPHead(nn.Module):\n",
    "    def __init__(self, dim, out_dim):\n",
    "        super().__init__()\n",
    "        self.net = nn.Sequential(\n",
    "            nn.LayerNorm(dim),\n",
    "            nn.Linear(dim, out_dim)\n",
    "        )\n",
    "    \n",
    "    def forward(self, x):\n",
    "        x = self.net(x)\n",
    "        return x\n",
    "\n",
    "\n",
    "class ViT(nn.Module):\n",
    "    def __init__(self, image_size, patch_size, n_classes, dim, depth, n_heads, channels = 3, mlp_dim = 256):\n",
    "\n",
    "        super().__init__()\n",
    "        \n",
    "        # Params\n",
    "        n_patches = (image_size // patch_size) ** 2\n",
    "        patch_dim = channels * patch_size * patch_size\n",
    "        self.depth = depth\n",
    "\n",
    "        # Layers\n",
    "        self.patching = Patching(patch_size = patch_size)\n",
    "        self.linear_projection_of_flattened_patches = LinearProjection(patch_dim = patch_dim, dim = dim)\n",
    "        self.embedding = Embedding(dim = dim, n_patches = n_patches)\n",
    "        self.transformer_encoder = TransformerEncoder(dim = dim, n_heads = n_heads, mlp_dim = mlp_dim, depth = depth)\n",
    "        self.mlp_head = MLPHead(dim = dim, out_dim = n_classes)\n",
    "\n",
    "\n",
    "    def forward(self, img):\n",
    "\n",
    "        x = img\n",
    "\n",
    "        # 1. パッチに分割\n",
    "        # x.shape : [batch_size, channels, image_height, image_width] -> [batch_size, n_patches, channels * (patch_size ** 2)]\n",
    "        x = self.patching(x)\n",
    "\n",
    "        # 2. 各パッチをベクトルに変換\n",
    "        # x.shape : [batch_size, n_patches, channels * (patch_size ** 2)] -> [batch_size, n_patches, dim]\n",
    "        x = self.linear_projection_of_flattened_patches(x)\n",
    "\n",
    "        # 3. [class] トークン付加 + 位置エンコーディング \n",
    "        # x.shape : [batch_size, n_patches, dim] -> [batch_size, n_patches + 1, dim]\n",
    "        x = self.embedding(x)\n",
    "\n",
    "        # 4. Transformer Encoder\n",
    "        # x.shape : No Change\n",
    "        x = self.transformer_encoder(x)\n",
    "\n",
    "        # 5. 出力の0番目のベクトルを MLP Head で処理\n",
    "        # x.shape : [batch_size, n_patches + 1, dim] -> [batch_size, dim] -> [batch_size, n_classes]\n",
    "        x = x[:, 0]\n",
    "        x = self.mlp_head(x)\n",
    "\n",
    "        return x"
   ]
  },
  {
   "cell_type": "code",
   "execution_count": 6,
   "id": "d75a1ec5-5bc7-4886-9337-2eb2818bbf45",
   "metadata": {},
   "outputs": [
    {
     "name": "stdout",
     "output_type": "stream",
     "text": [
      "cpu\n"
     ]
    }
   ],
   "source": [
    "device = torch.device(\"cuda:0\" if torch.cuda.is_available() else \"cpu\")\n",
    "print(device)"
   ]
  },
  {
   "cell_type": "code",
   "execution_count": 7,
   "id": "e7c96e73-0781-405d-9600-3e9f7e24f45e",
   "metadata": {},
   "outputs": [],
   "source": [
    "net = ViT(\n",
    "    image_size=32,\n",
    "    patch_size=4,\n",
    "    n_classes=2,\n",
    "    dim=256,\n",
    "    depth=3,\n",
    "    n_heads=4,\n",
    "    mlp_dim = 256\n",
    ").to(device)"
   ]
  },
  {
   "cell_type": "code",
   "execution_count": 8,
   "id": "be1dd3a8-df27-4390-bdad-78e5ecbd2d9b",
   "metadata": {},
   "outputs": [],
   "source": [
    "import torch.optim as optim\n",
    "import torch.nn as nn"
   ]
  },
  {
   "cell_type": "code",
   "execution_count": 9,
   "id": "f7f7cb01-9476-4892-8596-5a32d2e1c344",
   "metadata": {},
   "outputs": [],
   "source": [
    "criterion = nn.CrossEntropyLoss()\n",
    "optimizer = optim.SGD(net.parameters(), lr=0.01, momentum=0.9)"
   ]
  },
  {
   "cell_type": "markdown",
   "id": "d7e480c0-c49c-4489-a3b3-d61b75c3caca",
   "metadata": {},
   "source": [
    "## 学習・検証"
   ]
  },
  {
   "cell_type": "code",
   "execution_count": 10,
   "id": "3ee8d726-90b9-4f91-9b0c-84ecabbd5b74",
   "metadata": {},
   "outputs": [
    {
     "name": "stdout",
     "output_type": "stream",
     "text": [
      "Epoch 1 : train acc. 0.71 train loss 0.60\n",
      "Epoch 1 : val acc. 0.83 val loss 0.41\n",
      "Epoch 2 : train acc. 0.91 train loss 0.23\n",
      "Epoch 2 : val acc. 0.84 val loss 0.61\n",
      "Epoch 3 : train acc. 0.96 train loss 0.12\n",
      "Epoch 3 : val acc. 0.88 val loss 0.50\n",
      "Epoch 4 : train acc. 0.98 train loss 0.06\n",
      "Epoch 4 : val acc. 0.95 val loss 0.14\n",
      "Epoch 5 : train acc. 0.99 train loss 0.03\n",
      "Epoch 5 : val acc. 0.93 val loss 0.44\n",
      "Epoch 6 : train acc. 0.99 train loss 0.03\n",
      "Epoch 6 : val acc. 0.95 val loss 0.21\n",
      "Epoch 7 : train acc. 0.99 train loss 0.02\n",
      "Epoch 7 : val acc. 0.97 val loss 0.14\n",
      "Epoch 8 : train acc. 1.00 train loss 0.01\n",
      "Epoch 8 : val acc. 0.95 val loss 0.26\n",
      "Epoch 9 : train acc. 1.00 train loss 0.01\n",
      "Epoch 9 : val acc. 0.95 val loss 0.33\n",
      "Epoch 10 : train acc. 1.00 train loss 0.00\n",
      "Epoch 10 : val acc. 0.96 val loss 0.28\n"
     ]
    }
   ],
   "source": [
    "epochs = 10\n",
    "accuracy=[]\n",
    "losses=[]\n",
    "val_accuracy=[]\n",
    "val_losses=[]\n",
    "for epoch in range(0, epochs):\n",
    "    epoch_train_loss = 0\n",
    "    epoch_train_acc = 0\n",
    "    epoch_val_loss = 0\n",
    "    epoch_val_acc = 0\n",
    "\n",
    "    net.train()\n",
    "    for data in train_loader:\n",
    "        inputs, labels = data[0].to(device), data[1].to(device)\n",
    "\n",
    "        optimizer.zero_grad()\n",
    "\n",
    "        outputs = net(inputs)\n",
    "        loss = criterion(outputs, labels)\n",
    "        loss.backward()\n",
    "        optimizer.step()\n",
    "\n",
    "        epoch_train_loss += loss.item()/len(train_loader)\n",
    "        acc = (outputs.argmax(dim=1) == labels).float().mean()\n",
    "        epoch_train_acc += acc/len(train_loader)\n",
    "\n",
    "        del inputs\n",
    "        del outputs\n",
    "        del loss\n",
    "    accuracy.append(epoch_train_acc)\n",
    "    losses.append(epoch_train_loss)\n",
    "\n",
    "    net.eval()\n",
    "    with torch.no_grad():\n",
    "        for data in validation_loader:\n",
    "            inputs, labels = data[0].to(device), data[1].to(device)\n",
    "            outputs = net(inputs)\n",
    "            loss = criterion(outputs, labels)\n",
    "            epoch_val_loss += loss.item()/len(validation_loader)\n",
    "            val_acc = (outputs.argmax(dim=1) == labels).float().mean()\n",
    "            epoch_val_acc += val_acc/len(validation_loader)\n",
    "        val_accuracy.append(epoch_val_acc)\n",
    "        val_losses.append(epoch_val_loss)\n",
    "\n",
    "    print(f'Epoch {epoch+1} : train acc. {epoch_train_acc:.2f} train loss {epoch_train_loss:.2f}')\n",
    "    print(f'Epoch {epoch+1} : val acc. {epoch_val_acc:.2f} val loss {epoch_val_loss:.2f}')"
   ]
  },
  {
   "cell_type": "markdown",
   "id": "fa70430d-3c91-4960-bac2-baa4b2bbca7d",
   "metadata": {},
   "source": [
    "## 学習・検証結果確認"
   ]
  },
  {
   "cell_type": "code",
   "execution_count": 14,
   "id": "dbf8c2ae-e7bb-4422-aec1-0a004d7b8009",
   "metadata": {},
   "outputs": [
    {
     "data": {
      "text/plain": [
       "<matplotlib.legend.Legend at 0x13a21e0b0>"
      ]
     },
     "execution_count": 14,
     "metadata": {},
     "output_type": "execute_result"
    },
    {
     "data": {
      "image/png": "[encoded data removed]",
      "text/plain": [
       "<Figure size 640x480 with 1 Axes>"
      ]
     },
     "metadata": {},
     "output_type": "display_data"
    }
   ],
   "source": [
    "import matplotlib.pyplot as plt\n",
    "plt.plot(losses, label='train loss')\n",
    "plt.plot(val_losses, label='validation loss')\n",
    "#plt.ylim(-0.01,0.2)\n",
    "plt.legend()"
   ]
  },
  {
   "cell_type": "code",
   "execution_count": 15,
   "id": "4d48f850-8b29-4740-a8d8-78b27f9c71a9",
   "metadata": {},
   "outputs": [
    {
     "data": {
      "text/plain": [
       "<matplotlib.legend.Legend at 0x13a2af250>"
      ]
     },
     "execution_count": 15,
     "metadata": {},
     "output_type": "execute_result"
    },
    {
     "data": {
      "image/png": "[encoded data removed]",
      "text/plain": [
       "<Figure size 640x480 with 1 Axes>"
      ]
     },
     "metadata": {},
     "output_type": "display_data"
    }
   ],
   "source": [
    "plt.plot(accuracy, label='train acc')\n",
    "plt.plot(val_accuracy, label='validation acc')\n",
    "# plt.ylim(0.96,1.005)\n",
    "plt.legend()"
   ]
  },
  {
   "cell_type": "markdown",
   "id": "2f646809-8912-41b5-94ae-6e350f1340a7",
   "metadata": {},
   "source": [
    "## テスト"
   ]
  },
  {
   "cell_type": "code",
   "execution_count": 19,
   "id": "1f018a24-4e6b-406d-854c-65ea2d537cb0",
   "metadata": {},
   "outputs": [
    {
     "name": "stdout",
     "output_type": "stream",
     "text": [
      "7.821200847625732\n",
      "Epoch 10 : test acc. 1.00 test loss 0.00\n"
     ]
    }
   ],
   "source": [
    "import time\n",
    "epoch_test_loss = 0\n",
    "epoch_test_acc = 0\n",
    "start=time.time()\n",
    "with torch.no_grad():\n",
    "    for data in test_loader:\n",
    "        inputs, labels = data[0].to(device), data[1].to(device)\n",
    "        outputs = net(inputs)\n",
    "        loss = criterion(outputs, labels)\n",
    "        epoch_test_loss += loss.item()/len(test_loader)\n",
    "        test_acc = (outputs.argmax(dim=1) == labels).float().mean()\n",
    "        epoch_test_acc += test_acc/len(test_loader)\n",
    "\n",
    "        \n",
    "end = time.time()\n",
    "print(end-start)\n",
    "print(f'Epoch {epoch+1} : test acc. {epoch_test_acc:.2f} test loss {epoch_test_loss:.2f}')"
   ]
  },
  {
   "cell_type": "code",
   "execution_count": null,
   "id": "1b0dd6ee-8c63-4ef5-9aaf-138b0235e8cb",
   "metadata": {},
   "outputs": [],
   "source": []
  }
 ],
 "metadata": {
  "kernelspec": {
   "display_name": "Python 3 (ipykernel)",
   "language": "python",
   "name": "python3"
  },
  "language_info": {
   "codemirror_mode": {
    "name": "ipython",
    "version": 3
   },
   "file_extension": ".py",
   "mimetype": "text/x-python",
   "name": "python",
   "nbconvert_exporter": "python",
   "pygments_lexer": "ipython3",
   "version": "3.10.8"
  }
 },
 "nbformat": 4,
 "nbformat_minor": 5
}
