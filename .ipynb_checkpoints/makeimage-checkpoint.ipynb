{
 "cells": [
  {
   "cell_type": "code",
   "execution_count": 7,
   "id": "f637ffd1-c3cf-466c-b511-ff381038ca2b",
   "metadata": {},
   "outputs": [],
   "source": [
    "%matplotlib inline\n",
    "from pathlib import Path\n",
    "from pycbc.waveform import get_td_waveform\n",
    "import pylab\n",
    "import numpy as np\n",
    "\n",
    "import pycbc.noise\n",
    "import pycbc.psd\n",
    "\n",
    "\n",
    "# The color of the noise matches a PSD which you provide\n",
    "flow = 30.0\n",
    "delta_f = 1.0 / 16\n",
    "flen = int(2048 / delta_f) + 1 \n",
    "psd = pycbc.psd.aLIGOZeroDetHighPower(flen, delta_f, flow)\n",
    "\n",
    "# Generate 32 seconds of noise at 4096 Hz\n",
    "delta_t = 1.0 / 4096"
   ]
  },
  {
   "cell_type": "code",
   "execution_count": 8,
   "id": "4ce52cb2-f1a0-4f1e-80c9-d70eb183675c",
   "metadata": {},
   "outputs": [],
   "source": [
    "xs =[]\n",
    "ys=[]\n",
    "zs=[]\n",
    "rng = np.random.RandomState()\n",
    "for _ in range(5000):\n",
    "    theta = rng.uniform(-1,1)\n",
    "    phi = rng.uniform(0,2*np.pi)\n",
    "    r = rng.uniform(0, 1)\n",
    "    x=r**(1/3)*(1-theta**2)*np.cos(phi)\n",
    "    y=r**(1/3)*(1-theta**2)*np.sin(phi)\n",
    "    z=r**(1/3)*theta\n",
    "    xs.append(x)\n",
    "    ys.append(y)\n",
    "    zs.append(z)\n",
    "\n",
    "distance=[]\n",
    "for i in range(len(xs)):\n",
    "    dis = np.sqrt(xs[i]**2 + ys[i]**2 + zs[i]**2)\n",
    "    distance.append(dis)"
   ]
  },
  {
   "cell_type": "code",
   "execution_count": 16,
   "id": "00fae4b0-5faa-441d-9192-90e1f688db47",
   "metadata": {
    "tags": []
   },
   "outputs": [
    {
     "name": "stdout",
     "output_type": "stream",
     "text": [
      "317.21946653434355\n",
      "929.0954590044613\n",
      "309.9421276852288\n",
      "692.3955655069603\n",
      "682.0273563790133\n",
      "760.2763449513329\n",
      "705.7023021592058\n",
      "546.074052052368\n",
      "522.8998528217364\n",
      "772.2362501987637\n"
     ]
    }
   ],
   "source": [
    "# num,hp2,hp3,path\n",
    "import random\n",
    "num = 10\n",
    "\n",
    "a = 5\n",
    "b = 30\n",
    "c = 200\n",
    "d = 1000\n",
    "dist = 1000\n",
    "np.random.seed()\n",
    "Mass1 = (b - a) * np.random.rand(num) + a   #a以上b未満の乱数\n",
    "Mass2 = (b - a) * np.random.rand(num) + a\n",
    "distlist = list(map(lambda x: x *dist , distance))\n",
    "for m1,m2,d,i in zip(Mass1,Mass2,distlist,range(num+1)):\n",
    "    hp, hc = get_td_waveform(approximant=\"SEOBNRv4_opt\",\n",
    "                         mass1=m1,\n",
    "                         mass2=m2,\n",
    "                         delta_t=1.0/4096,\n",
    "                         f_lower=30,\n",
    "                         distance=d) \n",
    "    hp.start_time = 0\n",
    "    ts = pycbc.noise.noise_from_psd(len(hp.sample_times), delta_t, psd, seed=127)\n",
    "    hp2 = hp +ts\n",
    "    hp3 = ts\n",
    "    times,freqs,power = hp2.qtransform(0.001, logfsteps = 100,\n",
    "                                             qrange=(8,8),\n",
    "                                             frange=(30,512),)\n",
    "\n",
    "    pylab.figure(figsize =[15,3])\n",
    "    pylab.pcolormesh(times,freqs,power**0.5)  \n",
    "    pylab.yscale('log')\n",
    "    pylab.axis('off')\n",
    "#    pylab.colorbar()\n",
    "#    pylab.show()\n",
    "    pylab.savefig(\"./data/%03.f\"%(i)+\".jpg\")\n",
    "    pylab.close()"
   ]
  },
  {
   "cell_type": "code",
   "execution_count": null,
   "id": "88005fa5-d85d-4c0f-b88e-4bc421708ad5",
   "metadata": {},
   "outputs": [],
   "source": []
  }
 ],
 "metadata": {
  "kernelspec": {
   "display_name": "Python 3 (ipykernel)",
   "language": "python",
   "name": "python3"
  },
  "language_info": {
   "codemirror_mode": {
    "name": "ipython",
    "version": 3
   },
   "file_extension": ".py",
   "mimetype": "text/x-python",
   "name": "python",
   "nbconvert_exporter": "python",
   "pygments_lexer": "ipython3",
   "version": "3.10.8"
  }
 },
 "nbformat": 4,
 "nbformat_minor": 5
}
